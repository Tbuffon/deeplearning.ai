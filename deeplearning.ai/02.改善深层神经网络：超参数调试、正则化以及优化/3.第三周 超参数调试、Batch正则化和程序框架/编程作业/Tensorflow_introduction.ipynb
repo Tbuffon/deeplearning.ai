{
 "cells": [
  {
   "cell_type": "markdown",
   "metadata": {},
   "source": [
    "# Introduction to TensorFlow\n",
    "\n",
    "Welcome to this week's programming assignment! Up until now, you've always used Numpy to build neural networks, but this week you'll explore a deep learning framework that allows you to build neural networks more easily. Machine learning frameworks like TensorFlow, PaddlePaddle, Torch, Caffe, Keras, and many others can speed up your machine learning development significantly. TensorFlow 2.3 has made significant improvements over its predecessor, some of which you'll encounter and implement here!\n",
    "\n",
    "By the end of this assignment, you'll be able to do the following in TensorFlow 2.3:\n",
    "\n",
    "* Use `tf.Variable` to modify the state of a variable\n",
    "* Explain the difference between a variable and a constant\n",
    "* Apply TensorFlow decorators to speed up code\n",
    "* Train a Neural Network on a TensorFlow dataset\n",
    "\n",
    "Programming frameworks like TensorFlow not only cut down on time spent coding, but can also perform optimizations that speed up the code itself. "
   ]
  },
  {
   "cell_type": "markdown",
   "metadata": {},
   "source": [
    "## Table of Contents\n",
    "- [1- Packages](#1)\n",
    "    - [1.1 - Checking TensorFlow Version](#1-1)\n",
    "- [2 - Basic Optimization with GradientTape](#2)\n",
    "    - [2.1 - Linear Function](#2-1)\n",
    "        - [Exercise 1 - linear_function](#ex-1)\n",
    "    - [2.2 - Computing the Sigmoid](#2-2)\n",
    "        - [Exercise 2 - sigmoid](#ex-2)\n",
    "    - [2.3 - Using One Hot Encodings](#2-3)\n",
    "        - [Exercise 3 - one_hot_matrix](#ex-3)\n",
    "    - [2.4 - Initialize the Parameters](#2-4)\n",
    "        - [Exercise 4 - initialize_parameters](#ex-4)\n",
    "- [3 - Building Your First Neural Network in TensorFlow](#3)\n",
    "    - [3.1 - Implement Forward Propagation](#3-1)\n",
    "        - [Exercise 5 - forward_propagation](#ex-5)\n",
    "    - [3.2 Compute the Cost](#3-2)\n",
    "        - [Exercise 6 - compute_cost](#ex-6)\n",
    "    - [3.3 - Train the Model](#3-3)\n",
    "- [4 - Bibliography](#4)"
   ]
  },
  {
   "cell_type": "markdown",
   "metadata": {},
   "source": [
    "<a name='1'></a>\n",
    "## 1 - Packages"
   ]
  },
  {
   "cell_type": "code",
   "execution_count": 1,
   "metadata": {},
   "outputs": [],
   "source": [
    "import h5py\n",
    "import numpy as np\n",
    "import tensorflow as tf\n",
    "import matplotlib.pyplot as plt\n",
    "from tensorflow.python.framework.ops import EagerTensor\n",
    "from tensorflow.python.ops.resource_variable_ops import ResourceVariable\n",
    "import time"
   ]
  },
  {
   "cell_type": "markdown",
   "metadata": {},
   "source": [
    "<a name='1-1'></a>\n",
    "### 1.1 - Checking TensorFlow Version \n",
    "\n",
    "You will be using v2.3 for this assignment, for maximum speed and efficiency."
   ]
  },
  {
   "cell_type": "code",
   "execution_count": 2,
   "metadata": {},
   "outputs": [
    {
     "data": {
      "text/plain": [
       "'2.3.1'"
      ]
     },
     "execution_count": 2,
     "metadata": {},
     "output_type": "execute_result"
    }
   ],
   "source": [
    "tf.__version__"
   ]
  },
  {
   "cell_type": "markdown",
   "metadata": {},
   "source": [
    "<a name='2'></a>\n",
    "## 2 - Basic Optimization with GradientTape\n",
    "\n",
    "The beauty of TensorFlow 2 is in its simplicity. Basically, all you need to do is implement forward propagation through a computational graph. TensorFlow will compute the derivatives for you, by moving backwards through the graph recorded with `GradientTape`. All that's left for you to do then is specify the cost function and optimizer you want to use! \n",
    "\n",
    "When writing a TensorFlow program, the main object to get used and transformed is the `tf.Tensor`. These tensors are the TensorFlow equivalent of Numpy arrays, i.e. multidimensional arrays of a given data type that also contain information about the computational graph.\n",
    "\n",
    "Below, you'll use `tf.Variable` to store the state of your variables. Variables can only be created once as its initial value defines the variable shape and type. Additionally, the `dtype` arg in `tf.Variable` can be set to allow data to be converted to that type. But if none is specified, either the datatype will be kept if the initial value is a Tensor, or `convert_to_tensor` will decide. It's generally best for you to specify directly, so nothing breaks!\n"
   ]
  },
  {
   "cell_type": "markdown",
   "metadata": {},
   "source": [
    "Here you'll call the TensorFlow dataset created on a HDF5 file, which you can use in place of a Numpy array to store your datasets. You can think of this as a TensorFlow data generator! \n",
    "\n",
    "You will use the Hand sign data set, that is composed of images with shape 64x64x3."
   ]
  },
  {
   "cell_type": "code",
   "execution_count": 3,
   "metadata": {},
   "outputs": [],
   "source": [
    "train_dataset = h5py.File('datasets/train_signs.h5', \"r\")\n",
    "test_dataset = h5py.File('datasets/test_signs.h5', \"r\")"
   ]
  },
  {
   "cell_type": "code",
   "execution_count": 4,
   "metadata": {},
   "outputs": [
    {
     "data": {
      "text/plain": [
       "<HDF5 dataset \"train_set_x\": shape (1080, 64, 64, 3), type \"|u1\">"
      ]
     },
     "execution_count": 4,
     "metadata": {},
     "output_type": "execute_result"
    }
   ],
   "source": [
    "train_dataset['train_set_x']"
   ]
  },
  {
   "cell_type": "code",
   "execution_count": 5,
   "metadata": {},
   "outputs": [],
   "source": [
    "# tf.data.Dataset.from_tensor_slices( list_or_numpy_array ) creates TensorFlow Datasets\n",
    "x_train = tf.data.Dataset.from_tensor_slices(train_dataset['train_set_x'])\n",
    "y_train = tf.data.Dataset.from_tensor_slices(train_dataset['train_set_y'])\n",
    "\n",
    "x_test = tf.data.Dataset.from_tensor_slices(test_dataset['test_set_x'])\n",
    "y_test = tf.data.Dataset.from_tensor_slices(test_dataset['test_set_y'])"
   ]
  },
  {
   "cell_type": "code",
   "execution_count": 6,
   "metadata": {},
   "outputs": [
    {
     "data": {
      "text/plain": [
       "tensorflow.python.data.ops.dataset_ops.TensorSliceDataset"
      ]
     },
     "execution_count": 6,
     "metadata": {},
     "output_type": "execute_result"
    }
   ],
   "source": [
    "type(x_train)"
   ]
  },
  {
   "cell_type": "markdown",
   "metadata": {},
   "source": [
    "Since TensorFlow Datasets are generators, you can't access directly the contents unless you iterate over them in a for loop, or by explicitly creating a Python iterator using `iter` and consuming its\n",
    "elements using `next`. Also, you can inspect the `shape` and `dtype` of each element using the `element_spec` attribute."
   ]
  },
  {
   "cell_type": "code",
   "execution_count": 9,
   "metadata": {},
   "outputs": [
    {
     "name": "stdout",
     "output_type": "stream",
     "text": [
      "TensorSpec(shape=(64, 64, 3), dtype=tf.uint8, name=None)\n"
     ]
    }
   ],
   "source": [
    "print(x_train.element_spec)"
   ]
  },
  {
   "cell_type": "code",
   "execution_count": 10,
   "metadata": {},
   "outputs": [
    {
     "name": "stdout",
     "output_type": "stream",
     "text": [
      "tf.Tensor(\n",
      "[[[227 220 214]\n",
      "  [227 221 215]\n",
      "  [227 222 215]\n",
      "  ...\n",
      "  [232 230 224]\n",
      "  [231 229 222]\n",
      "  [230 229 221]]\n",
      "\n",
      " [[227 221 214]\n",
      "  [227 221 215]\n",
      "  [228 221 215]\n",
      "  ...\n",
      "  [232 230 224]\n",
      "  [231 229 222]\n",
      "  [231 229 221]]\n",
      "\n",
      " [[227 221 214]\n",
      "  [227 221 214]\n",
      "  [227 221 215]\n",
      "  ...\n",
      "  [232 230 224]\n",
      "  [231 229 223]\n",
      "  [230 229 221]]\n",
      "\n",
      " ...\n",
      "\n",
      " [[119  81  51]\n",
      "  [124  85  55]\n",
      "  [127  87  58]\n",
      "  ...\n",
      "  [210 211 211]\n",
      "  [211 212 210]\n",
      "  [210 211 210]]\n",
      "\n",
      " [[119  79  51]\n",
      "  [124  84  55]\n",
      "  [126  85  56]\n",
      "  ...\n",
      "  [210 211 210]\n",
      "  [210 211 210]\n",
      "  [209 210 209]]\n",
      "\n",
      " [[119  81  51]\n",
      "  [123  83  55]\n",
      "  [122  82  54]\n",
      "  ...\n",
      "  [209 210 210]\n",
      "  [209 210 209]\n",
      "  [208 209 209]]], shape=(64, 64, 3), dtype=uint8)\n"
     ]
    }
   ],
   "source": [
    "print(next(iter(x_train)))"
   ]
  },
  {
   "cell_type": "code",
   "execution_count": 13,
   "metadata": {},
   "outputs": [
    {
     "name": "stdout",
     "output_type": "stream",
     "text": [
      "tf.Tensor(\n",
      "[[[227 220 214]\n",
      "  [227 221 215]\n",
      "  [227 222 215]\n",
      "  ...\n",
      "  [232 230 224]\n",
      "  [231 229 222]\n",
      "  [230 229 221]]\n",
      "\n",
      " [[227 221 214]\n",
      "  [227 221 215]\n",
      "  [228 221 215]\n",
      "  ...\n",
      "  [232 230 224]\n",
      "  [231 229 222]\n",
      "  [231 229 221]]\n",
      "\n",
      " [[227 221 214]\n",
      "  [227 221 214]\n",
      "  [227 221 215]\n",
      "  ...\n",
      "  [232 230 224]\n",
      "  [231 229 223]\n",
      "  [230 229 221]]\n",
      "\n",
      " ...\n",
      "\n",
      " [[119  81  51]\n",
      "  [124  85  55]\n",
      "  [127  87  58]\n",
      "  ...\n",
      "  [210 211 211]\n",
      "  [211 212 210]\n",
      "  [210 211 210]]\n",
      "\n",
      " [[119  79  51]\n",
      "  [124  84  55]\n",
      "  [126  85  56]\n",
      "  ...\n",
      "  [210 211 210]\n",
      "  [210 211 210]\n",
      "  [209 210 209]]\n",
      "\n",
      " [[119  81  51]\n",
      "  [123  83  55]\n",
      "  [122  82  54]\n",
      "  ...\n",
      "  [209 210 210]\n",
      "  [209 210 209]\n",
      "  [208 209 209]]], shape=(64, 64, 3), dtype=uint8)\n"
     ]
    }
   ],
   "source": [
    "for element in x_train:\n",
    "    print(element)\n",
    "    break"
   ]
  },
  {
   "cell_type": "markdown",
   "metadata": {},
   "source": [
    "There's one more additional difference between TensorFlow datasets and Numpy arrays: If you need to transform one, you would invoke the `map` method to apply the function passed as an argument to each of the elements."
   ]
  },
  {
   "cell_type": "code",
   "execution_count": 14,
   "metadata": {},
   "outputs": [],
   "source": [
    "def normalize(image):\n",
    "    \"\"\"\n",
    "    Transform an image into a tensor of shape (64 * 64 * 3, 1)\n",
    "    and normalize its components.\n",
    "    \n",
    "    Arguments\n",
    "    image - Tensor.\n",
    "    \n",
    "    Returns: \n",
    "    result -- Transformed tensor \n",
    "    \"\"\"\n",
    "    image = tf.cast(image, tf.float32) / 256.0\n",
    "    image = tf.reshape(image, [-1,1])\n",
    "    return image"
   ]
  },
  {
   "cell_type": "code",
   "execution_count": 15,
   "metadata": {},
   "outputs": [],
   "source": [
    "new_train = x_train.map(normalize)\n",
    "new_test = x_test.map(normalize)"
   ]
  },
  {
   "cell_type": "code",
   "execution_count": 16,
   "metadata": {},
   "outputs": [
    {
     "data": {
      "text/plain": [
       "TensorSpec(shape=(12288, 1), dtype=tf.float32, name=None)"
      ]
     },
     "execution_count": 16,
     "metadata": {},
     "output_type": "execute_result"
    }
   ],
   "source": [
    "new_train.element_spec"
   ]
  },
  {
   "cell_type": "code",
   "execution_count": 17,
   "metadata": {},
   "outputs": [
    {
     "name": "stdout",
     "output_type": "stream",
     "text": [
      "tf.Tensor(\n",
      "[[0.88671875]\n",
      " [0.859375  ]\n",
      " [0.8359375 ]\n",
      " ...\n",
      " [0.8125    ]\n",
      " [0.81640625]\n",
      " [0.81640625]], shape=(12288, 1), dtype=float32)\n"
     ]
    }
   ],
   "source": [
    "print(next(iter(new_train)))"
   ]
  },
  {
   "cell_type": "markdown",
   "metadata": {},
   "source": [
    "<a name='2-1'></a>\n",
    "### 2.1 - Linear Function\n",
    "\n",
    "Let's begin this programming exercise by computing the following equation: $Y = WX + b$, where $W$ and $X$ are random matrices and b is a random vector. \n",
    "\n",
    "<a name='ex-1'></a>\n",
    "### Exercise 1 - linear_function\n",
    "\n",
    "Compute $WX + b$ where $W, X$, and $b$ are drawn from a random normal distribution. W is of shape (4, 3), X is (3,1) and b is (4,1). As an example, this is how to define a constant X with the shape (3,1):\n",
    "```python\n",
    "X = tf.constant(np.random.randn(3,1), name = \"X\")\n",
    "\n",
    "```\n",
    "Note that the difference between `tf.constant` and `tf.Variable` is that you can modify the state of a `tf.Variable` but cannot change the state of a `tf.constant`.\n",
    "\n",
    "You might find the following functions helpful: \n",
    "- tf.matmul(..., ...) to do a matrix multiplication\n",
    "- tf.add(..., ...) to do an addition\n",
    "- np.random.randn(...) to initialize randomly"
   ]
  },
  {
   "cell_type": "code",
   "execution_count": 28,
   "metadata": {
    "deletable": false,
    "nbgrader": {
     "cell_type": "code",
     "checksum": "397d354ecaa1a28936096002cde11279",
     "grade": false,
     "grade_id": "cell-002e5736767021c0",
     "locked": false,
     "schema_version": 3,
     "solution": true,
     "task": false
    }
   },
   "outputs": [],
   "source": [
    "# GRADED FUNCTION: linear_function\n",
    "\n",
    "def linear_function():\n",
    "    \"\"\"\n",
    "    Implements a linear function: \n",
    "            Initializes X to be a random tensor of shape (3,1)\n",
    "            Initializes W to be a random tensor of shape (4,3)\n",
    "            Initializes b to be a random tensor of shape (4,1)\n",
    "    Returns: \n",
    "    result -- Y = WX + b \n",
    "    \"\"\"\n",
    "\n",
    "    np.random.seed(1)\n",
    "    \n",
    "    \"\"\"\n",
    "    Note, to ensure that the \"random\" numbers generated match the expected results,\n",
    "    please create the variables in the order given in the starting code below.\n",
    "    (Do not re-arrange the order).\n",
    "    \"\"\"\n",
    "    # (approx. 4 lines)\n",
    "    # X = ...\n",
    "    # W = ...\n",
    "    # b = ...\n",
    "    # Y = ...\n",
    "    # YOUR CODE STARTS HERE\n",
    "    X = tf.constant(np.random.randn(3,1), name = 'X')\n",
    "    W = tf.Variable(np.random.randn(4,3), name = 'W')\n",
    "    b = tf.Variable(np.random.randn(4,1), name = 'b')\n",
    "    Y = tf.add(tf.matmul(W, X), b)\n",
    "    # YOUR CODE ENDS HERE\n",
    "    return Y"
   ]
  },
  {
   "cell_type": "code",
   "execution_count": 29,
   "metadata": {
    "deletable": false,
    "editable": false,
    "nbgrader": {
     "cell_type": "code",
     "checksum": "3526a7fd39649d2a6516031720e46748",
     "grade": true,
     "grade_id": "cell-b4318ea155f136ab",
     "locked": true,
     "points": 10,
     "schema_version": 3,
     "solution": false,
     "task": false
    }
   },
   "outputs": [
    {
     "name": "stdout",
     "output_type": "stream",
     "text": [
      "tf.Tensor(\n",
      "[[-2.15657382]\n",
      " [ 2.95891446]\n",
      " [-1.08926781]\n",
      " [-0.84538042]], shape=(4, 1), dtype=float64)\n",
      "\u001b[92mAll test passed\n"
     ]
    }
   ],
   "source": [
    "result = linear_function()\n",
    "print(result)\n",
    "\n",
    "assert type(result) == EagerTensor, \"Use the TensorFlow API\"\n",
    "assert np.allclose(result, [[-2.15657382], [ 2.95891446], [-1.08926781], [-0.84538042]]), \"Error\"\n",
    "print(\"\\033[92mAll test passed\")\n"
   ]
  },
  {
   "cell_type": "markdown",
   "metadata": {},
   "source": [
    "**Expected Output**: \n",
    "\n",
    "```\n",
    "result = \n",
    "[[-2.15657382]\n",
    " [ 2.95891446]\n",
    " [-1.08926781]\n",
    " [-0.84538042]]\n",
    "```"
   ]
  },
  {
   "cell_type": "markdown",
   "metadata": {},
   "source": [
    "<a name='2-2'></a>\n",
    "### 2.2 - Computing the Sigmoid \n",
    "Amazing! You just implemented a linear function. TensorFlow offers a variety of commonly used neural network functions like `tf.sigmoid` and `tf.softmax`.\n",
    "\n",
    "For this exercise, compute the sigmoid of z. \n",
    "\n",
    "In this exercise, you will: Cast your tensor to type `float32` using `tf.cast`, then compute the sigmoid using `tf.keras.activations.sigmoid`. \n",
    "\n",
    "<a name='ex-2'></a>\n",
    "### Exercise 2 - sigmoid\n",
    "\n",
    "Implement the sigmoid function below. You should use the following: \n",
    "\n",
    "- `tf.cast(\"...\", tf.float32)`\n",
    "- `tf.keras.activations.sigmoid(\"...\")`"
   ]
  },
  {
   "cell_type": "code",
   "execution_count": 34,
   "metadata": {
    "deletable": false,
    "nbgrader": {
     "cell_type": "code",
     "checksum": "34072bb90c73636c7e7e4517e58c454c",
     "grade": false,
     "grade_id": "cell-038bb4b7e61dd070",
     "locked": false,
     "schema_version": 3,
     "solution": true,
     "task": false
    }
   },
   "outputs": [],
   "source": [
    "# GRADED FUNCTION: sigmoid\n",
    "\n",
    "def sigmoid(z):\n",
    "    \n",
    "    \"\"\"\n",
    "    Computes the sigmoid of z\n",
    "    \n",
    "    Arguments:\n",
    "    z -- input value, scalar or vector\n",
    "    \n",
    "    Returns: \n",
    "    a -- (tf.float32) the sigmoid of z\n",
    "    \"\"\"\n",
    "    # tf.keras.activations.sigmoid requires float16, float32, float64, complex64, or complex128.\n",
    "    \n",
    "    # (approx. 2 lines)\n",
    "    # z = ...\n",
    "    # result = ...\n",
    "    # YOUR CODE STARTS HERE\n",
    "    z = tf.cast(z, tf.float32)\n",
    "    a = tf.keras.activations.sigmoid(z)\n",
    "    # YOUR CODE ENDS HERE\n",
    "    return a\n"
   ]
  },
  {
   "cell_type": "code",
   "execution_count": 35,
   "metadata": {
    "deletable": false,
    "editable": false,
    "nbgrader": {
     "cell_type": "code",
     "checksum": "ad1c73949744ba2205a0ad0d6f395915",
     "grade": true,
     "grade_id": "cell-a04f348c3fdbc2f2",
     "locked": true,
     "points": 10,
     "schema_version": 3,
     "solution": false,
     "task": false
    }
   },
   "outputs": [
    {
     "name": "stdout",
     "output_type": "stream",
     "text": [
      "type: <class 'tensorflow.python.framework.ops.EagerTensor'>\n",
      "dtype: <dtype: 'float32'>\n",
      "sigmoid(-1) = tf.Tensor(0.26894143, shape=(), dtype=float32)\n",
      "sigmoid(0) = tf.Tensor(0.5, shape=(), dtype=float32)\n",
      "sigmoid(12) = tf.Tensor(0.9999939, shape=(), dtype=float32)\n",
      "\u001b[92mAll test passed\n"
     ]
    }
   ],
   "source": [
    "result = sigmoid(-1)\n",
    "print (\"type: \" + str(type(result)))\n",
    "print (\"dtype: \" + str(result.dtype))\n",
    "print (\"sigmoid(-1) = \" + str(result))\n",
    "print (\"sigmoid(0) = \" + str(sigmoid(0.0)))\n",
    "print (\"sigmoid(12) = \" + str(sigmoid(12)))\n",
    "\n",
    "def sigmoid_test(target):\n",
    "    result = target(0)\n",
    "    assert(type(result) == EagerTensor)\n",
    "    assert (result.dtype == tf.float32)\n",
    "    assert sigmoid(0) == 0.5, \"Error\"\n",
    "    assert sigmoid(-1) == 0.26894143, \"Error\"\n",
    "    assert sigmoid(12) == 0.9999939, \"Error\"\n",
    "\n",
    "    print(\"\\033[92mAll test passed\")\n",
    "\n",
    "sigmoid_test(sigmoid)"
   ]
  },
  {
   "cell_type": "markdown",
   "metadata": {},
   "source": [
    "**Expected Output**: \n",
    "<table>\n",
    "<tr> \n",
    "<td>\n",
    "type\n",
    "</td>\n",
    "<td>\n",
    "class 'tensorflow.python.framework.ops.EagerTensor'\n",
    "</td>\n",
    "</tr><tr> \n",
    "<td>\n",
    "dtype\n",
    "</td>\n",
    "<td>\n",
    "\"dtype: 'float32'\n",
    "</td>\n",
    "</tr>\n",
    "<tr> \n",
    "<td>\n",
    "Sigmoid(-1)\n",
    "</td>\n",
    "<td>\n",
    "0.2689414\n",
    "</td>\n",
    "</tr>\n",
    "<tr> \n",
    "<td>\n",
    "Sigmoid(0)\n",
    "</td>\n",
    "<td>\n",
    "0.5\n",
    "</td>\n",
    "</tr>\n",
    "<tr> \n",
    "<td>\n",
    "Sigmoid(12)\n",
    "</td>\n",
    "<td>\n",
    "0.999994\n",
    "</td>\n",
    "</tr> \n",
    "\n",
    "</table> "
   ]
  },
  {
   "cell_type": "markdown",
   "metadata": {},
   "source": [
    "<a name='2-3'></a>\n",
    "### 2.3 - Using One Hot Encodings\n",
    "\n",
    "Many times in deep learning you will have a $Y$ vector with numbers ranging from $0$ to $C-1$, where $C$ is the number of classes. If $C$ is for example 4, then you might have the following y vector which you will need to convert like this:\n",
    "\n",
    "\n",
    "<img src=\"images/onehot.png\" style=\"width:600px;height:150px;\">\n",
    "\n",
    "This is called \"one hot\" encoding, because in the converted representation, exactly one element of each column is \"hot\" (meaning set to 1). To do this conversion in numpy, you might have to write a few lines of code. In TensorFlow, you can use one line of code: \n",
    "\n",
    "- [tf.one_hot(labels, depth, axis=0)](https://www.tensorflow.org/api_docs/python/tf/one_hot)\n",
    "\n",
    "`axis=0` indicates the new axis is created at dimension 0\n",
    "\n",
    "<a name='ex-3'></a>\n",
    "### Exercise 3 - one_hot_matrix\n",
    "\n",
    "Implement the function below to take one label and the total number of classes $C$, and return the one hot encoding in a column whise matrix. Use `tf.one_hot()` to do this, and `tf.reshape()` to reshape your one hot tensor! \n",
    "\n",
    "- `tf.reshape(tensor, shape)`"
   ]
  },
  {
   "cell_type": "code",
   "execution_count": 38,
   "metadata": {
    "deletable": false,
    "nbgrader": {
     "cell_type": "code",
     "checksum": "44bfa91af0e57ca117ebf3acce902a28",
     "grade": false,
     "grade_id": "cell-15d9db613d8007bb",
     "locked": false,
     "schema_version": 3,
     "solution": true,
     "task": false
    }
   },
   "outputs": [],
   "source": [
    "# GRADED FUNCTION: one_hot_matrix\n",
    "def one_hot_matrix(label, depth=6):\n",
    "    \"\"\"\n",
    "    Computes the one hot encoding for a single label\n",
    "    \n",
    "    Arguments:\n",
    "        label --  (int) Categorical labels\n",
    "        depth --  (int) Number of different classes that label can take\n",
    "    \n",
    "    Returns:\n",
    "         one_hot -- tf.Tensor A single-column matrix with the one hot encoding.\n",
    "    \"\"\"\n",
    "    # (approx. 1 line)\n",
    "    # one_hot = ...\n",
    "    # YOUR CODE STARTS HERE\n",
    "    one_hot = tf.reshape(tf.one_hot(label, depth, axis=0), (depth,1))\n",
    "    \n",
    "    # YOUR CODE ENDS HERE\n",
    "    return one_hot"
   ]
  },
  {
   "cell_type": "code",
   "execution_count": 39,
   "metadata": {
    "deletable": false,
    "editable": false,
    "nbgrader": {
     "cell_type": "code",
     "checksum": "1fb1a7bda24387b5aee077ac4e6ca3af",
     "grade": true,
     "grade_id": "cell-100c1b3328215913",
     "locked": true,
     "points": 10,
     "schema_version": 3,
     "solution": false,
     "task": false
    }
   },
   "outputs": [
    {
     "name": "stdout",
     "output_type": "stream",
     "text": [
      "tf.Tensor(\n",
      "[[0.]\n",
      " [1.]\n",
      " [0.]\n",
      " [0.]], shape=(4, 1), dtype=float32)\n",
      "\u001b[92mAll test passed\n"
     ]
    }
   ],
   "source": [
    "def one_hot_matrix_test(target):\n",
    "    label = tf.constant(1)\n",
    "    depth = 4\n",
    "    result = target(label, depth)\n",
    "    print(result)\n",
    "    assert result.shape[0] == depth, \"Use the parameter depth\"\n",
    "    assert result.shape[1] == 1, f\"Reshape to have only 1 column\"\n",
    "    assert np.allclose(result,  [[0.], [1.], [0.], [0.]] ), \"Wrong output. Use tf.one_hot\"\n",
    "    result = target(3, depth)\n",
    "    assert np.allclose(result, [[0.], [0.], [0.], [1.]] ), \"Wrong output. Use tf.one_hot\"\n",
    "    \n",
    "    print(\"\\033[92mAll test passed\")\n",
    "\n",
    "one_hot_matrix_test(one_hot_matrix)"
   ]
  },
  {
   "cell_type": "markdown",
   "metadata": {},
   "source": [
    "**Expected output**\n",
    "```\n",
    "tf.Tensor(\n",
    "[[0.]\n",
    " [1.]\n",
    " [0.]\n",
    " [0.]], shape=(4, 1), dtype=float32)\n",
    "```"
   ]
  },
  {
   "cell_type": "code",
   "execution_count": 40,
   "metadata": {},
   "outputs": [],
   "source": [
    "new_y_test = y_test.map(one_hot_matrix)\n",
    "new_y_train = y_train.map(one_hot_matrix)"
   ]
  },
  {
   "cell_type": "code",
   "execution_count": 41,
   "metadata": {
    "scrolled": true
   },
   "outputs": [
    {
     "name": "stdout",
     "output_type": "stream",
     "text": [
      "tf.Tensor(\n",
      "[[1.]\n",
      " [0.]\n",
      " [0.]\n",
      " [0.]\n",
      " [0.]\n",
      " [0.]], shape=(6, 1), dtype=float32)\n"
     ]
    }
   ],
   "source": [
    "print(next(iter(new_y_test)))"
   ]
  },
  {
   "cell_type": "markdown",
   "metadata": {},
   "source": [
    "<a name='2-4'></a>\n",
    "### 2.4 - Initialize the Parameters \n",
    "\n",
    "Now you'll initialize a vector of numbers between zero and one. The function you'll be calling is `tf.keras.initializers.GlorotNormal`, which draws samples from a truncated normal distribution centered on 0, with `stddev = sqrt(2 / (fan_in + fan_out))`, where `fan_in` is the number of input units and `fan_out` is the number of output units, both in the weight tensor. \n",
    "\n",
    "To initialize with zeros or ones you could use `tf.zeros()` or `tf.ones()` instead. \n",
    "\n",
    "<a name='ex-4'></a>\n",
    "### Exercise 4 - initialize_parameters\n",
    "\n",
    "Implement the function below to take in a shape and to return an array of numbers between -1 and 1. \n",
    "\n",
    " - `tf.keras.initializers.GlorotNormal(seed=1)`\n",
    " - `tf.Variable(initializer(shape=())`"
   ]
  },
  {
   "cell_type": "code",
   "execution_count": 47,
   "metadata": {
    "deletable": false,
    "nbgrader": {
     "cell_type": "code",
     "checksum": "da48416c74797c83152e1080b08afb9d",
     "grade": false,
     "grade_id": "cell-1d5716c48a16debf",
     "locked": false,
     "schema_version": 3,
     "solution": true,
     "task": false
    }
   },
   "outputs": [],
   "source": [
    "# GRADED FUNCTION: initialize_parameters\n",
    "\n",
    "def initialize_parameters():\n",
    "    \"\"\"\n",
    "    Initializes parameters to build a neural network with TensorFlow. The shapes are:\n",
    "                        W1 : [25, 12288]\n",
    "                        b1 : [25, 1]\n",
    "                        W2 : [12, 25]\n",
    "                        b2 : [12, 1]\n",
    "                        W3 : [6, 12]\n",
    "                        b3 : [6, 1]\n",
    "    \n",
    "    Returns:\n",
    "    parameters -- a dictionary of tensors containing W1, b1, W2, b2, W3, b3\n",
    "    \"\"\"\n",
    "                                \n",
    "    initializer = tf.keras.initializers.GlorotNormal(seed=1)   \n",
    "    #(approx. 6 lines of code)\n",
    "  \n",
    "    # YOUR CODE STARTS HERE\n",
    "    W1 = tf.Variable(initializer(shape = (25, 12288)))\n",
    "    b1 = tf.Variable(initializer(shape = (25, 1)))\n",
    "    W2 = tf.Variable(initializer(shape = (12, 25)))\n",
    "    b2 = tf.Variable(initializer(shape = (12, 1)))\n",
    "    W3 = tf.Variable(initializer(shape = (6, 12)))\n",
    "    b3 = tf.Variable(initializer(shape = (6, 1)))\n",
    "    \n",
    "    # YOUR CODE ENDS HERE\n",
    "\n",
    "    parameters = {\"W1\": W1,\n",
    "                  \"b1\": b1,\n",
    "                  \"W2\": W2,\n",
    "                  \"b2\": b2,\n",
    "                  \"W3\": W3,\n",
    "                  \"b3\": b3}\n",
    "    \n",
    "    return parameters"
   ]
  },
  {
   "cell_type": "code",
   "execution_count": 48,
   "metadata": {
    "deletable": false,
    "editable": false,
    "nbgrader": {
     "cell_type": "code",
     "checksum": "dd3fe0b5ed777771156c071d9373e47a",
     "grade": true,
     "grade_id": "cell-11012e1fada40919",
     "locked": true,
     "points": 10,
     "schema_version": 3,
     "solution": false,
     "task": false
    }
   },
   "outputs": [
    {
     "name": "stdout",
     "output_type": "stream",
     "text": [
      "W1 shape: (25, 12288)\n",
      "b1 shape: (25, 1)\n",
      "W2 shape: (12, 25)\n",
      "b2 shape: (12, 1)\n",
      "W3 shape: (6, 12)\n",
      "b3 shape: (6, 1)\n",
      "\u001b[92mAll test passed\n"
     ]
    }
   ],
   "source": [
    "def initialize_parameters_test(target):\n",
    "    parameters = target()\n",
    "\n",
    "    values = {\"W1\": (25, 12288),\n",
    "              \"b1\": (25, 1),\n",
    "              \"W2\": (12, 25),\n",
    "              \"b2\": (12, 1),\n",
    "              \"W3\": (6, 12),\n",
    "              \"b3\": (6, 1)}\n",
    "\n",
    "    for key in parameters:\n",
    "        print(f\"{key} shape: {tuple(parameters[key].shape)}\")\n",
    "        assert type(parameters[key]) == ResourceVariable, \"All parameter must be created using tf.Variable\"\n",
    "        assert tuple(parameters[key].shape) == values[key], f\"{key}: wrong shape\"\n",
    "        assert np.abs(np.mean(parameters[key].numpy())) < 0.5,  f\"{key}: Use the GlorotNormal initializer\"\n",
    "        assert np.std(parameters[key].numpy()) > 0 and np.std(parameters[key].numpy()) < 1, f\"{key}: Use the GlorotNormal initializer\"\n",
    "\n",
    "    print(\"\\033[92mAll test passed\")\n",
    "    \n",
    "initialize_parameters_test(initialize_parameters)"
   ]
  },
  {
   "cell_type": "markdown",
   "metadata": {},
   "source": [
    "**Expected output**\n",
    "```\n",
    "W1 shape: (25, 12288)\n",
    "b1 shape: (25, 1)\n",
    "W2 shape: (12, 25)\n",
    "b2 shape: (12, 1)\n",
    "W3 shape: (6, 12)\n",
    "b3 shape: (6, 1)\n",
    "```"
   ]
  },
  {
   "cell_type": "code",
   "execution_count": 49,
   "metadata": {},
   "outputs": [],
   "source": [
    "parameters = initialize_parameters()"
   ]
  },
  {
   "cell_type": "markdown",
   "metadata": {},
   "source": [
    "<a name='3'></a>\n",
    "## 3 - Building Your First Neural Network in TensorFlow\n",
    "\n",
    "In this part of the assignment you will build a neural network using TensorFlow. Remember that there are two parts to implementing a TensorFlow model:\n",
    "\n",
    "- Implement forward propagation\n",
    "- Retrieve the gradients and train the model\n",
    "\n",
    "Let's get into it!"
   ]
  },
  {
   "cell_type": "markdown",
   "metadata": {},
   "source": [
    "<a name='3-1'></a>\n",
    "### 3.1 - Implement Forward Propagation \n",
    "\n",
    "One of TensorFlow's great strengths lies in the fact that you only need to implement the forward propagation function. \n",
    "\n",
    "Here, you'll use a TensorFlow decorator, `@tf.function`, which builds a  computational graph to execute the function. `@tf.function` is polymorphic, which comes in very handy, as it can support arguments with different data types or shapes, and be used with other languages, such as Python. This means that you can use data dependent control flow statements.\n",
    "\n",
    "When you use `@tf.function` to implement forward propagation, the computational graph is activated, which keeps track of the operations. This is so you can calculate your gradients with backpropagation.\n",
    "\n",
    "<a name='ex-5'></a>\n",
    "### Exercise 5 - forward_propagation\n",
    "\n",
    "Implement the `forward_propagation` function.\n",
    "\n",
    "**Note** Use only the TF API. \n",
    "\n",
    "- tf.math.add\n",
    "- tf.linalg.matmul\n",
    "- tf.keras.activations.relu\n"
   ]
  },
  {
   "cell_type": "code",
   "execution_count": 76,
   "metadata": {
    "deletable": false,
    "nbgrader": {
     "cell_type": "code",
     "checksum": "7c3d7c28e47e314c17d3f35e5a033b15",
     "grade": false,
     "grade_id": "cell-23b6d82b3443e298",
     "locked": false,
     "schema_version": 3,
     "solution": true,
     "task": false
    }
   },
   "outputs": [],
   "source": [
    "# GRADED FUNCTION: forward_propagation\n",
    "\n",
    "@tf.function\n",
    "def forward_propagation(X, parameters):\n",
    "    \"\"\"\n",
    "    Implements the forward propagation for the model: LINEAR -> RELU -> LINEAR -> RELU -> LINEAR\n",
    "    \n",
    "    Arguments:\n",
    "    X -- input dataset placeholder, of shape (input size, number of examples)\n",
    "    parameters -- python dictionary containing your parameters \"W1\", \"b1\", \"W2\", \"b2\", \"W3\", \"b3\"\n",
    "                  the shapes are given in initialize_parameters\n",
    "\n",
    "    Returns:\n",
    "    Z3 -- the output of the last LINEAR unit\n",
    "    \"\"\"\n",
    "    \n",
    "    # Retrieve the parameters from the dictionary \"parameters\" \n",
    "    W1 = parameters['W1']\n",
    "    b1 = parameters['b1']\n",
    "    W2 = parameters['W2']\n",
    "    b2 = parameters['b2']\n",
    "    W3 = parameters['W3']\n",
    "    b3 = parameters['b3']\n",
    "    \n",
    "    #(approx. 5 lines)                   \n",
    "    # Numpy Equivalents:\n",
    "    # Z1 = np.dot(W1, X) + b1\n",
    "    # A1 = relu(Z1)\n",
    "    # Z2 = np.dot(W2, A1) + b2\n",
    "    # A2 = relu(Z2)\n",
    "    # Z3 = np.dot(W3, A2) + b3\n",
    "    # YOUR CODE STARTS HERE\n",
    "    Z1 = tf.add(tf.matmul(W1,X), b1)\n",
    "    A1 = tf.keras.activations.relu(Z1)\n",
    "    Z2 = tf.add(tf.matmul(W2,A1), b2)\n",
    "    A2 = tf.keras.activations.relu(Z2)\n",
    "    Z3 = tf.add(tf.matmul(W3,A2), b3)\n",
    "    \n",
    "    # YOUR CODE ENDS HERE\n",
    "    \n",
    "    return Z3"
   ]
  },
  {
   "cell_type": "code",
   "execution_count": 77,
   "metadata": {
    "deletable": false,
    "editable": false,
    "nbgrader": {
     "cell_type": "code",
     "checksum": "204b6a74e3c6cbdb3654bdb2ed8f13af",
     "grade": true,
     "grade_id": "cell-728b002a6a88ceb1",
     "locked": true,
     "points": 0,
     "schema_version": 3,
     "solution": false,
     "task": false
    }
   },
   "outputs": [
    {
     "name": "stdout",
     "output_type": "stream",
     "text": [
      "tf.Tensor(\n",
      "[[-0.13082162]\n",
      " [ 0.21228778]\n",
      " [ 0.7050022 ]\n",
      " [-1.1224034 ]\n",
      " [-0.20386729]\n",
      " [ 0.9526217 ]], shape=(6, 1), dtype=float32)\n",
      "\u001b[92mAll test passed\n"
     ]
    }
   ],
   "source": [
    "def forward_propagation_test(target, examples):\n",
    "    for batch in examples:\n",
    "        forward_pass = target(batch, parameters)\n",
    "        assert type(forward_pass) == EagerTensor, \"Your output is not a tensor\"\n",
    "        assert forward_pass.shape == (6, 1), \"Last layer must use W3 and b3\"\n",
    "        assert np.any(forward_pass < 0), \"Don't use a ReLu layer at end of your network\"\n",
    "        assert np.allclose(forward_pass, \n",
    "                           [[-0.13082162],\n",
    "                           [ 0.21228778],\n",
    "                           [ 0.7050022 ],\n",
    "                           [-1.1224034 ],\n",
    "                           [-0.20386729],\n",
    "                           [ 0.9526217 ]]), \"Output does not match\"\n",
    "        print(forward_pass)\n",
    "        break\n",
    "    \n",
    "\n",
    "    print(\"\\033[92mAll test passed\")\n",
    "\n",
    "forward_propagation_test(forward_propagation, new_train)"
   ]
  },
  {
   "cell_type": "markdown",
   "metadata": {},
   "source": [
    "**Expected output**\n",
    "```\n",
    "tf.Tensor(\n",
    "[[-0.13082162]\n",
    " [ 0.21228778]\n",
    " [ 0.7050022 ]\n",
    " [-1.1224034 ]\n",
    " [-0.20386732]\n",
    " [ 0.9526217 ]], shape=(6, 1), dtype=float32)\n",
    "```"
   ]
  },
  {
   "cell_type": "markdown",
   "metadata": {},
   "source": [
    "<a name='3-2'></a>\n",
    "### 3.2 Compute the Cost\n",
    "\n",
    "Here again, the delightful `@tf.function` decorator steps in and saves you time. All you need to do is specify how to compute the cost, and you can do so in one simple step by using:\n",
    "\n",
    "`tf.reduce_mean(tf.keras.losses.binary_crossentropy(y_true = ..., y_pred = ..., from_logits=True))`\n",
    "\n",
    "<a name='ex-6'></a>\n",
    "### Exercise 6 -  compute_cost\n",
    "\n",
    "Implement the cost function below. \n",
    "- It's important to note that the \"`y_pred`\" and \"`y_true`\" inputs of [tf.keras.losses.binary_crossentropy](https://www.tensorflow.org/api_docs/python/tf/keras/losses/binary_crossentropy) are expected to be of shape (number of examples, num_classes). Since both the transpose and the original tensors have the same values, just in different order, the result of calculating the binary_crossentropy should be the same if you transpose or not the logits and labels. Just for reference here is how the Binary Cross entropy is calculated in TensorFlow:\n",
    "\n",
    "``mean_reduce(max(logits, 0) - logits * labels + log(1 + exp(-abs(logits))), axis=-1)``\n",
    "\n",
    "- `tf.reduce_mean` basically does the summation over the examples."
   ]
  },
  {
   "cell_type": "code",
   "execution_count": 78,
   "metadata": {
    "deletable": false,
    "nbgrader": {
     "cell_type": "code",
     "checksum": "af252bad785c3ddf4a55fa7bc999477a",
     "grade": false,
     "grade_id": "cell-e6cc4d7fefeed231",
     "locked": false,
     "schema_version": 3,
     "solution": true,
     "task": false
    }
   },
   "outputs": [],
   "source": [
    "# GRADED FUNCTION: compute_cost \n",
    "\n",
    "@tf.function\n",
    "def compute_cost(logits, labels):\n",
    "    \"\"\"\n",
    "    Computes the cost\n",
    "    \n",
    "    Arguments:\n",
    "    logits -- output of forward propagation (output of the last LINEAR unit), of shape (6, number of examples)\n",
    "    labels -- \"true\" labels vector, same shape as Z3\n",
    "    \n",
    "    Returns:\n",
    "    cost - Tensor of the cost function\n",
    "    \"\"\"\n",
    "    \n",
    "    #(1 line of code)\n",
    "    # cost = ...\n",
    "    # YOUR CODE STARTS HERE\n",
    "    cost = tf.reduce_mean(tf.keras.losses.binary_crossentropy(y_true = labels, y_pred = logits, from_logits=True))\n",
    "    # YOUR CODE ENDS HERE\n",
    "    return cost"
   ]
  },
  {
   "cell_type": "code",
   "execution_count": 79,
   "metadata": {
    "deletable": false,
    "editable": false,
    "nbgrader": {
     "cell_type": "code",
     "checksum": "938580c5cbcf49a72c1fdcda782cfd8a",
     "grade": true,
     "grade_id": "cell-9bf72affa2e7b1b5",
     "locked": true,
     "points": 10,
     "schema_version": 3,
     "solution": false,
     "task": false
    }
   },
   "outputs": [
    {
     "name": "stdout",
     "output_type": "stream",
     "text": [
      "tf.Tensor(0.8419182681095858, shape=(), dtype=float64)\n",
      "\u001b[92mAll test passed\n"
     ]
    }
   ],
   "source": [
    "def compute_cost_test(target):\n",
    "    labels = np.array([[0., 1.], [0., 0.], [1., 0.]])\n",
    "    logits = np.array([[0.6, 0.4], [0.4, 0.6], [0.4, 0.6]])\n",
    "    result = compute_cost(logits, labels)\n",
    "    print(result)\n",
    "    assert(type(result) == EagerTensor), \"Use the TensorFlow API\"\n",
    "    assert (np.abs(result - (0.7752516 +  0.9752516 + 0.7752516) / 3.0) < 1e-7), \"Test does not match. Did you get the mean of your cost functions?\"\n",
    "\n",
    "    print(\"\\033[92mAll test passed\")\n",
    "\n",
    "compute_cost_test(compute_cost)"
   ]
  },
  {
   "cell_type": "markdown",
   "metadata": {},
   "source": [
    "**Expected output**\n",
    "```\n",
    "tf.Tensor(0.87525165, shape=(), dtype=float32)\n",
    "```"
   ]
  },
  {
   "cell_type": "markdown",
   "metadata": {},
   "source": [
    "<a name='3-3'></a>\n",
    "### 3.3 - Train the Model\n",
    "\n",
    "Let's talk optimizers. You'll specify the type of optimizer in one line, in this case `tf.keras.optimizers.Adam` (though you can use others such as SGD), and then call it within the training loop. \n",
    "\n",
    "Notice the `tape.gradient` function: this allows you to retrieve the operations recorded for automatic differentiation inside the `GradientTape` block. Then, calling the optimizer method `apply_gradients`, will apply the optimizer's update rules to each trainable parameter. At the end of this assignment, you'll find some documentation that explains this more in detail, but for now, a simple explanation will do. ;) \n",
    "\n",
    "\n",
    "Here you should take note of an important extra step that's been added to the batch training process: \n",
    "\n",
    "- `tf.Data.dataset = dataset.prefetch(8)` \n",
    "\n",
    "What this does is prevent a memory bottleneck that can occur when reading from disk. `prefetch()` sets aside some data and keeps it ready for when it's needed. It does this by creating a source dataset from your input data, applying a transformation to preprocess the data, then iterating over the dataset the specified number of elements at a time. This works because the iteration is streaming, so the data doesn't need to fit into the memory. "
   ]
  },
  {
   "cell_type": "code",
   "execution_count": 80,
   "metadata": {},
   "outputs": [],
   "source": [
    "def model(X_train, Y_train, X_test, Y_test, learning_rate = 0.0001,\n",
    "          num_epochs = 1500, minibatch_size = 32, print_cost = True):\n",
    "    \"\"\"\n",
    "    Implements a three-layer tensorflow neural network: LINEAR->RELU->LINEAR->RELU->LINEAR->SOFTMAX.\n",
    "    \n",
    "    Arguments:\n",
    "    X_train -- training set, of shape (input size = 12288, number of training examples = 1080)\n",
    "    Y_train -- test set, of shape (output size = 6, number of training examples = 1080)\n",
    "    X_test -- training set, of shape (input size = 12288, number of training examples = 120)\n",
    "    Y_test -- test set, of shape (output size = 6, number of test examples = 120)\n",
    "    learning_rate -- learning rate of the optimization\n",
    "    num_epochs -- number of epochs of the optimization loop\n",
    "    minibatch_size -- size of a minibatch\n",
    "    print_cost -- True to print the cost every 100 epochs\n",
    "    \n",
    "    Returns:\n",
    "    parameters -- parameters learnt by the model. They can then be used to predict.\n",
    "    \"\"\"\n",
    "    \n",
    "    costs = []                                        # To keep track of the cost\n",
    "    \n",
    "    # Initialize your parameters\n",
    "    #(1 line)\n",
    "    parameters = initialize_parameters()\n",
    "\n",
    "    W1 = parameters['W1']\n",
    "    b1 = parameters['b1']\n",
    "    W2 = parameters['W2']\n",
    "    b2 = parameters['b2']\n",
    "    W3 = parameters['W3']\n",
    "    b3 = parameters['b3']\n",
    "\n",
    "    optimizer = tf.keras.optimizers.Adam(learning_rate)\n",
    "\n",
    "    X_train = X_train.batch(minibatch_size, drop_remainder=True).prefetch(8)# <<< extra step    \n",
    "    Y_train = Y_train.batch(minibatch_size, drop_remainder=True).prefetch(8) # loads memory faster \n",
    "\n",
    "    # Do the training loop\n",
    "    for epoch in range(num_epochs):\n",
    "\n",
    "        epoch_cost = 0.\n",
    "        \n",
    "        for (minibatch_X, minibatch_Y) in zip(X_train, Y_train):\n",
    "            # Select a minibatch\n",
    "            with tf.GradientTape() as tape:\n",
    "                # 1. predict\n",
    "                Z3 = forward_propagation(minibatch_X, parameters)\n",
    "                # 2. loss\n",
    "                minibatch_cost = compute_cost(Z3, minibatch_Y)\n",
    "                \n",
    "            trainable_variables = [W1, b1, W2, b2, W3, b3]\n",
    "            grads = tape.gradient(minibatch_cost, trainable_variables)\n",
    "            optimizer.apply_gradients(zip(grads, trainable_variables))\n",
    "            epoch_cost += minibatch_cost / minibatch_size\n",
    "\n",
    "        # Print the cost every epoch\n",
    "        if print_cost == True and epoch % 10 == 0:\n",
    "            print (\"Cost after epoch %i: %f\" % (epoch, epoch_cost))\n",
    "        if print_cost == True and epoch % 5 == 0:\n",
    "            costs.append(epoch_cost)\n",
    "\n",
    "    # Plot the cost\n",
    "    plt.plot(np.squeeze(costs))\n",
    "    plt.ylabel('cost')\n",
    "    plt.xlabel('iterations (per fives)')\n",
    "    plt.title(\"Learning rate =\" + str(learning_rate))\n",
    "    plt.show()\n",
    "\n",
    "    # Save the parameters in a variable\n",
    "    print (\"Parameters have been trained!\")\n",
    "\n",
    "    return parameters"
   ]
  },
  {
   "cell_type": "code",
   "execution_count": 81,
   "metadata": {},
   "outputs": [
    {
     "name": "stdout",
     "output_type": "stream",
     "text": [
      "Cost after epoch 0: 0.610249\n",
      "Cost after epoch 10: 0.446378\n",
      "Cost after epoch 20: 0.402016\n",
      "Cost after epoch 30: 0.370229\n",
      "Cost after epoch 40: 0.346389\n",
      "Cost after epoch 50: 0.325712\n",
      "Cost after epoch 60: 0.308065\n",
      "Cost after epoch 70: 0.292801\n",
      "Cost after epoch 80: 0.278907\n",
      "Cost after epoch 90: 0.266238\n",
      "Cost after epoch 100: 0.254521\n",
      "Cost after epoch 110: 0.243655\n",
      "Cost after epoch 120: 0.233230\n",
      "Cost after epoch 130: 0.223727\n",
      "Cost after epoch 140: 0.214601\n",
      "Cost after epoch 150: 0.206288\n",
      "Cost after epoch 160: 0.198552\n",
      "Cost after epoch 170: 0.191492\n",
      "Cost after epoch 180: 0.184612\n",
      "Cost after epoch 190: 0.178532\n"
     ]
    },
    {
     "data": {
      "image/png": "[encoded data removed]",
      "text/plain": [
       "<Figure size 432x288 with 1 Axes>"
      ]
     },
     "metadata": {
      "needs_background": "light"
     },
     "output_type": "display_data"
    },
    {
     "name": "stdout",
     "output_type": "stream",
     "text": [
      "Parameters have been trained!\n"
     ]
    },
    {
     "data": {
      "text/plain": [
       "{'W1': <tf.Variable 'Variable:0' shape=(25, 12288) dtype=float32, numpy=\n",
       " array([[ 0.00124328, -0.007736  ,  0.00855116, ..., -0.01280533,\n",
       "          0.01595981,  0.00464926],\n",
       "        [ 0.02264025,  0.0067227 ,  0.00795862, ...,  0.00284724,\n",
       "          0.01910819,  0.00122853],\n",
       "        [ 0.00304841, -0.00539557, -0.0122679 , ..., -0.00170795,\n",
       "         -0.00181949, -0.07218862],\n",
       "        ...,\n",
       "        [-0.00126929,  0.01729332,  0.02082342, ...,  0.01709594,\n",
       "          0.00429358, -0.00733263],\n",
       "        [ 0.00215981,  0.00359496,  0.0088993 , ...,  0.01179553,\n",
       "         -0.02768546,  0.01438618],\n",
       "        [-0.00145541,  0.02459595,  0.00339064, ..., -0.02478788,\n",
       "          0.02716016, -0.00306428]], dtype=float32)>,\n",
       " 'b1': <tf.Variable 'Variable:0' shape=(25, 1) dtype=float32, numpy=\n",
       " array([[ 0.03933813],\n",
       "        [-0.15545043],\n",
       "        [ 0.20064823],\n",
       "        [-0.24932563],\n",
       "        [-0.28720054],\n",
       "        [-0.12026403],\n",
       "        [-0.0126193 ],\n",
       "        [ 0.15992855],\n",
       "        [-0.00556384],\n",
       "        [-0.43874022],\n",
       "        [ 0.5399823 ],\n",
       "        [-0.4345032 ],\n",
       "        [ 0.11751617],\n",
       "        [ 0.21523887],\n",
       "        [-0.06285998],\n",
       "        [-0.16515154],\n",
       "        [-0.0588628 ],\n",
       "        [-0.1946    ],\n",
       "        [-0.00337679],\n",
       "        [-0.06777475],\n",
       "        [ 0.09226809],\n",
       "        [ 0.02067652],\n",
       "        [-0.05682073],\n",
       "        [ 0.3700791 ],\n",
       "        [ 0.21586621]], dtype=float32)>,\n",
       " 'W2': <tf.Variable 'Variable:0' shape=(12, 25) dtype=float32, numpy=\n",
       " array([[ 0.03275048, -0.13031   ,  0.16586527, -0.20907195, -0.2404856 ,\n",
       "         -0.10617419, -0.01067576,  0.12274479, -0.00456134, -0.37174386,\n",
       "          0.45255578, -0.36423257,  0.09809466,  0.18042907, -0.05787439,\n",
       "         -0.13854012, -0.04489646, -0.15656115, -0.00292765, -0.05681378,\n",
       "          0.07734591,  0.01733258, -0.04763132,  0.3101104 ,  0.18095495],\n",
       "        [ 0.27474666,  0.0652916 ,  0.19327809,  0.00809532, -0.35056123,\n",
       "         -0.04467123,  0.00533627,  0.14127597, -0.2261913 , -0.08026048,\n",
       "         -0.10489239, -0.27877635, -0.22770675, -0.15467171, -0.30407894,\n",
       "          0.4283929 ,  0.04139664,  0.14225195,  0.4074849 ,  0.19127996,\n",
       "         -0.08289494,  0.19833343, -0.18854785,  0.11020229, -0.10293514],\n",
       "        [ 0.07419031,  0.12879197, -0.37947306, -0.14342348, -0.16810828,\n",
       "         -0.12532227,  0.07998902, -0.14143763, -0.32836735,  0.11780977,\n",
       "          0.21854417,  0.1428981 ,  0.4117677 , -0.02966296, -0.1137037 ,\n",
       "          0.28335646,  0.2591781 , -0.12152449,  0.14652175, -0.39992067,\n",
       "         -0.11544652, -0.11918075, -0.5031594 , -0.16652283, -0.0463655 ],\n",
       "        [-0.11884474,  0.19529893, -0.18605104, -0.46146956,  0.07854812,\n",
       "         -0.3804375 , -0.06318472,  0.44349316,  0.07491333,  0.553071  ,\n",
       "         -0.0161372 ,  0.35476214,  0.09278865,  0.17954443, -0.01555859,\n",
       "          0.04333073,  0.19153422, -0.1073908 , -0.23248862, -0.23678231,\n",
       "         -0.07444265, -0.30713868, -0.11694647,  0.32966653, -0.09511968],\n",
       "        [ 0.16026182,  0.0393942 ,  0.6884794 ,  0.22657786,  0.03667612,\n",
       "         -0.5867687 , -0.01684775, -0.35366616, -0.21202601,  0.00413879,\n",
       "          0.04965807, -0.29094276, -0.03039246,  0.47902155,  0.28945813,\n",
       "          0.04958538,  0.12882929,  0.45779207, -0.02461095,  0.10048122,\n",
       "         -0.05332499, -0.34107792, -0.13928485,  0.12459388, -0.41300818],\n",
       "        [-0.15009922,  0.03965309, -0.47955167, -0.07975382,  0.09735033,\n",
       "         -0.00232943, -0.26368296, -0.24157847,  0.24642426,  0.22330649,\n",
       "         -0.30809   ,  0.1017215 ,  0.02995418,  0.26468748, -0.52045006,\n",
       "         -0.08780679,  0.02792993,  0.2803117 ,  0.20731722, -0.14461054,\n",
       "         -0.09631125,  0.2553377 ,  0.0313108 ,  0.28631765,  0.02228327],\n",
       "        [-0.20365113, -0.2922766 ,  0.13242847,  0.00545678,  0.34428513,\n",
       "          0.21754156, -0.42780486,  0.12903327,  0.06114487, -0.23802844,\n",
       "          0.02994648, -0.20949648,  0.28877988,  0.03168807,  0.23085642,\n",
       "         -0.17687753, -0.5627059 , -0.01765127, -0.18034652,  0.20999093,\n",
       "          0.13074148,  0.12900151, -0.29620144,  0.39777374,  0.35581756],\n",
       "        [-0.08038271,  0.0508789 ,  0.03980728, -0.06886553, -0.07758227,\n",
       "          0.21301875,  0.1623148 , -0.05803089, -0.04888429, -0.229854  ,\n",
       "          0.2557574 , -0.2933403 , -0.15993112, -0.11232601, -0.129629  ,\n",
       "          0.05081587,  0.18616313, -0.07823517,  0.10223132, -0.06372993,\n",
       "          0.41251048, -0.01803587,  0.04746069,  0.27571908, -0.21901166],\n",
       "        [ 0.28614676,  0.20629272, -0.38102645,  0.26239577,  0.23505901,\n",
       "          0.1807184 ,  0.2544755 , -0.185253  ,  0.3629171 ,  0.01976653,\n",
       "         -0.3328637 , -0.09722907, -0.00877852,  0.22310142, -0.22405046,\n",
       "         -0.02499134,  0.19393018,  0.00373575,  0.47422853,  0.00131025,\n",
       "          0.3148377 , -0.22662118,  0.12927507,  0.04309406, -0.45121887],\n",
       "        [-0.23054187, -0.22334962, -0.02510628,  0.15417175, -0.07368277,\n",
       "         -0.05224584,  0.12214173,  0.37206468, -0.01242276,  0.09142497,\n",
       "          0.26777858, -0.06251994, -0.12100054, -0.12495217,  0.00834967,\n",
       "         -0.50085783, -0.16362937, -0.1577341 ,  0.07087833,  0.03642716,\n",
       "         -0.00494978, -0.36984688,  0.00878784,  0.24595837, -0.1323934 ],\n",
       "        [ 0.31835338,  0.02266271, -0.3088125 , -0.33999097,  0.3638608 ,\n",
       "         -0.2806806 , -0.05063019, -0.48842043,  0.26874724,  0.2505381 ,\n",
       "          0.02154539,  0.10230298, -0.3974664 ,  0.02363082,  0.19128305,\n",
       "          0.33321518, -0.07028071,  0.18981934, -0.08041644, -0.28784147,\n",
       "          0.17327178, -0.1326688 ,  0.28894275, -0.19818063, -0.03405774],\n",
       "        [ 0.18763106, -0.20398362, -0.0128241 , -0.36736935, -0.22929832,\n",
       "          0.23856176, -0.04179343, -0.04478788, -0.06109991,  0.11394533,\n",
       "         -0.31926167,  0.15379827,  0.14623134, -0.24647985, -0.14959383,\n",
       "          0.1338243 ,  0.6322496 ,  0.5512908 ,  0.33540118,  0.05405051,\n",
       "          0.21186371,  0.0197499 ,  0.45979315,  0.04389672,  0.36662805]],\n",
       "       dtype=float32)>,\n",
       " 'b2': <tf.Variable 'Variable:0' shape=(12, 1) dtype=float32, numpy=\n",
       " array([[ 0.05558714],\n",
       "        [-0.2211635 ],\n",
       "        [ 0.2806724 ],\n",
       "        [-0.34742934],\n",
       "        [-0.43761948],\n",
       "        [-0.17799091],\n",
       "        [ 0.01765008],\n",
       "        [ 0.20928754],\n",
       "        [-0.0072841 ],\n",
       "        [-0.5921569 ],\n",
       "        [ 0.79296994],\n",
       "        [-0.65302247]], dtype=float32)>,\n",
       " 'W3': <tf.Variable 'Variable:0' shape=(6, 12) dtype=float32, numpy=\n",
       " array([[ 0.04722748, -0.18685809,  0.23832873, -0.1948188 , -0.45020914,\n",
       "         -0.15126319,  0.04479734,  0.17675059, -0.00628042, -0.48975343,\n",
       "          0.90264124, -0.6111609 ],\n",
       "        [ 0.14109066,  0.25757158, -0.08280165, -0.2949146 , -0.12190099,\n",
       "         -0.22325028, -0.21287268, -0.08205553,  0.11029201, -0.2480073 ,\n",
       "         -0.07680583,  0.6290921 ],\n",
       "        [ 0.25860256,  0.39411512,  0.09234308,  0.36661446,  0.02291107,\n",
       "         -0.5026069 , -0.33176756,  0.00705025,  0.20377617, -0.35175803,\n",
       "         -0.12400367, -0.06523566],\n",
       "        [-0.40058085, -0.32569495, -0.22275771, -0.4938266 ,  0.88601685,\n",
       "          0.06121121,  0.19088508,  0.58447397,  0.273642  , -0.17343877,\n",
       "          0.21055673, -0.41514453],\n",
       "        [ 0.15814964, -0.14845909,  0.10683227,  0.31243858, -0.6640285 ,\n",
       "         -0.20478691, -0.11383626, -0.17963336,  0.11494233, -0.00709116,\n",
       "         -0.5314678 ,  0.0657251 ],\n",
       "        [ 0.3133931 ,  0.20412484,  0.59080577, -0.12338594, -0.52223206,\n",
       "          0.40711424,  0.45670137, -0.17410478,  0.21033157, -0.5181581 ,\n",
       "         -0.37945023, -0.22975352]], dtype=float32)>,\n",
       " 'b3': <tf.Variable 'Variable:0' shape=(6, 1) dtype=float32, numpy=\n",
       " array([[ 0.1265388 ],\n",
       "        [-0.37985903],\n",
       "        [ 0.31727403],\n",
       "        [-0.51559305],\n",
       "        [-0.46281824],\n",
       "        [-0.22917706]], dtype=float32)>}"
      ]
     },
     "execution_count": 81,
     "metadata": {},
     "output_type": "execute_result"
    }
   ],
   "source": [
    "model(new_train, new_y_train, new_test, new_y_test, num_epochs=200)"
   ]
  },
  {
   "cell_type": "markdown",
   "metadata": {},
   "source": [
    "**Expected output**\n",
    "\n",
    "```\n",
    "Cost after epoch 0: 0.610249\n",
    "Cost after epoch 10: 0.446378\n",
    "Cost after epoch 20: 0.402016\n",
    "Cost after epoch 30: 0.370229\n",
    "Cost after epoch 40: 0.346389\n",
    "...\n",
    "```"
   ]
  },
  {
   "cell_type": "markdown",
   "metadata": {},
   "source": [
    "**Congratulations**! You've made it to the end of this assignment, and to the end of this week's material. Amazing work building a neural network in TensorFlow 2.3! \n",
    "\n",
    "Here's a quick recap of all you just achieved:\n",
    "\n",
    "- Used `tf.Variable` to modify your variables\n",
    "- Applied TensorFlow decorators and observed how they sped up your code\n",
    "- Trained a Neural Network on a TensorFlow dataset\n",
    "- Applied batch normalization for a more robust network\n",
    "\n",
    "You are now able to harness the power of TensorFlow's computational graph to create cool things, faster. Nice! "
   ]
  },
  {
   "cell_type": "markdown",
   "metadata": {},
   "source": [
    "<a name='4'></a>\n",
    "## 4 - Bibliography \n",
    "\n",
    "In this assignment, you were introducted to `tf.GradientTape`, which records operations for differentation. Here are a couple of resources for diving deeper into what it does and why: \n",
    "\n",
    "Introduction to Gradients and Automatic Differentiation: \n",
    "https://www.tensorflow.org/guide/autodiff \n",
    "\n",
    "GradientTape documentation:\n",
    "https://www.tensorflow.org/api_docs/python/tf/GradientTape"
   ]
  },
  {
   "cell_type": "code",
   "execution_count": null,
   "metadata": {},
   "outputs": [],
   "source": []
  }
 ],
 "metadata": {
  "kernelspec": {
   "display_name": "Python 3 (ipykernel)",
   "language": "python",
   "name": "python3"
  },
  "language_info": {
   "codemirror_mode": {
    "name": "ipython",
    "version": 3
   },
   "file_extension": ".py",
   "mimetype": "text/x-python",
   "name": "python",
   "nbconvert_exporter": "python",
   "pygments_lexer": "ipython3",
   "version": "3.8.12"
  },
  "varInspector": {
   "cols": {
    "lenName": 16,
    "lenType": 16,
    "lenVar": 40
   },
   "kernels_config": {
    "python": {
     "delete_cmd_postfix": "",
     "delete_cmd_prefix": "del ",
     "library": "var_list.py",
     "varRefreshCmd": "print(var_dic_list())"
    },
    "r": {
     "delete_cmd_postfix": ") ",
     "delete_cmd_prefix": "rm(",
     "library": "var_list.r",
     "varRefreshCmd": "cat(var_dic_list()) "
    }
   },
   "oldHeight": 201.4,
   "position": {
    "height": "43px",
    "left": "1239px",
    "right": "20px",
    "top": "113px",
    "width": "279px"
   },
   "types_to_exclude": [
    "module",
    "function",
    "builtin_function_or_method",
    "instance",
    "_Feature"
   ],
   "varInspector_section_display": "none",
   "window_display": true
  }
 },
 "nbformat": 4,
 "nbformat_minor": 4
}
